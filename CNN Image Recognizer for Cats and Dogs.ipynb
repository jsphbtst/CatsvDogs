{
 "cells": [
  {
   "cell_type": "code",
   "execution_count": null,
   "metadata": {},
   "outputs": [],
   "source": [
    "from keras.models import Sequential\n",
    "from keras.layers import Convolution2D, MaxPooling2D, Flatten, Dense, Activation\n",
    "from keras.layers.advanced_activations import LeakyReLU\n",
    "from keras.preprocessing.image import ImageDataGenerator"
   ]
  },
  {
   "cell_type": "code",
   "execution_count": null,
   "metadata": {},
   "outputs": [],
   "source": [
    "# Steps: Convolution (as deep as needed) --> Max Pooling --> Flatten --> Full Connection ANN\n",
    "model = Sequential()\n",
    "\n",
    "# CONVOLUTION\n",
    "model.add(Convolution2D(64, (5, 5), input_shape=(128,128,3)))\n",
    "model.add(Activation(LeakyReLU()))\n",
    "\n",
    "# POOLING\n",
    "model.add(MaxPooling2D(pool_size=(3,3)))\n",
    "\n",
    "# ADD A SECOND CONVOLUTION LAYER\n",
    "model.add(Convolution2D(64, (5, 5)))\n",
    "model.add(Activation(LeakyReLU()))\n",
    "model.add(MaxPooling2D(pool_size=(3,3)))\n",
    "\n",
    "# FLATTENING\n",
    "model.add(Flatten())\n",
    "\n",
    "# FULL CONNECTION\n",
    "model.add(Dense(units=256))\n",
    "model.add(Activation(LeakyReLU()))\n",
    "model.add(Dense(units=1))\n",
    "model.add(Activation('sigmoid'))\n",
    "\n",
    "# COMPILE THE CNN\n",
    "model.compile(optimizer='adam', loss='binary_crossentropy', metrics=['accuracy'])"
   ]
  },
  {
   "cell_type": "code",
   "execution_count": null,
   "metadata": {},
   "outputs": [],
   "source": [
    "# IMAGE PREPROCESSING\n",
    "train_datagen = ImageDataGenerator(\n",
    "        rescale=1./255,\n",
    "        shear_range=0.2,\n",
    "        zoom_range=0.2,\n",
    "        horizontal_flip=True)\n",
    "\n",
    "test_datagen = ImageDataGenerator(rescale=1./255)\n",
    "\n",
    "training_set = train_datagen.flow_from_directory('dataset/training_set',\n",
    "                                                target_size=(128, 128),\n",
    "                                                batch_size=32,\n",
    "                                                class_mode='binary')\n",
    "\n",
    "test_set = test_datagen.flow_from_directory('dataset/test_set',\n",
    "                                            target_size=(128, 128),\n",
    "                                            batch_size=32,\n",
    "                                            class_mode='binary')"
   ]
  },
  {
   "cell_type": "code",
   "execution_count": null,
   "metadata": {},
   "outputs": [],
   "source": [
    "# Steps per epoch: Num of data sets in training, validation steps: num of data sets in testing\n",
    "model.fit_generator(test_set,\n",
    "                    steps_per_epoch=8000,\n",
    "                    epochs=50,\n",
    "                    validation_data=test_set,\n",
    "                    validation_steps=2000)"
   ]
  },
  {
   "cell_type": "code",
   "execution_count": null,
   "metadata": {
    "collapsed": true
   },
   "outputs": [],
   "source": []
  }
 ],
 "metadata": {
  "kernelspec": {
   "display_name": "Python 2",
   "language": "python",
   "name": "python2"
  },
  "language_info": {
   "codemirror_mode": {
    "name": "ipython",
    "version": 2
   },
   "file_extension": ".py",
   "mimetype": "text/x-python",
   "name": "python",
   "nbconvert_exporter": "python",
   "pygments_lexer": "ipython2",
   "version": "2.7.13"
  }
 },
 "nbformat": 4,
 "nbformat_minor": 2
}
